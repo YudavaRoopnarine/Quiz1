{
  "nbformat": 4,
  "nbformat_minor": 0,
  "metadata": {
    "colab": {
      "name": "quiz1.ipynb",
      "provenance": [],
      "authorship_tag": "ABX9TyMTFN8vp8jHyAxsZfLpbsIs",
      "include_colab_link": true
    },
    "kernelspec": {
      "name": "python3",
      "display_name": "Python 3"
    },
    "language_info": {
      "name": "python"
    }
  },
  "cells": [
    {
      "cell_type": "markdown",
      "metadata": {
        "id": "view-in-github",
        "colab_type": "text"
      },
      "source": [
        "<a href=\"https://colab.research.google.com/github/oatthegreat/Quiz1/blob/main/quiz1.ipynb\" target=\"_parent\"><img src=\"https://colab.research.google.com/assets/colab-badge.svg\" alt=\"Open In Colab\"/></a>"
      ]
    },
    {
      "cell_type": "markdown",
      "source": [
        "# Part 1\n"
      ],
      "metadata": {
        "id": "O_Bu8Gug6Yw2"
      }
    },
    {
      "cell_type": "markdown",
      "source": [
        "<h1>Data Summary</h1>\n",
        "<p>There is a lot to know about diamonds, one thing you should know is Carat which is the weight of a diamond the weight can differ from shape such as brilliant, princess and pear and more it can have more weight without appearing larger, so a carat weight is not correlated to its size. Another thing about diamonds is the Cut is basically how well a diamond is cut and polished including how well the stone is proportioned cut quality is directly impacted of a diamond’s beauty and brilliance. It differs with a grading where bottom tier is good, fair, poor and 2nd tier is very good and top tier is excellent. Diamonds also have a color to it and not always clear it can appear yellow and the higher the quality the clearer it is, and it’s graded with letters were G, H, I am where the best diamonds are rated and J, K, L is having a strong yellow tint. Diamonds have a certain clarity which involves the number, size, relief, nature, and position of these characteristics, this comes in tiers as well where a flawless clarity is labeled (FL) and slightly included is (VVS1 AND VVS2) and worst I included (I1, I2, I3). Diamonds also have depth which is a factor of the diamonds cut the depth is determined on the diamond’s height measured form the bottom tip to the top surface. This scales by shape where 53-58 is a round shape and 61-69 is radiant. A diamond table is the facet which can be seen when the stone is viewed face up where its purpose is to reflect rays entering the diamonds and allow them to be reflected. Diamonds prices also vary from all these factors and gets higher the more the Carat is bigger, and Cut is good. Diamonds come in different dimensions and represented as X dimension ranges from (0-10.74mm) Y is (0-58.9mm) and Z is (0-31.8mm)</p>"
      ],
      "metadata": {
        "id": "pztWVIVW6j0Y"
      }
    },
    {
      "cell_type": "markdown",
      "source": [
        "# Part 2"
      ],
      "metadata": {
        "id": "6yVYjmI-6yEC"
      }
    },
    {
      "cell_type": "code",
      "source": [
        "import pandas as pd\n",
        "import matplotlib.pyplot as plt\n",
        "import numpy as np\n",
        "import seaborn as sns\n",
        "import missingno as msno\n",
        "\n",
        "df = pd.read_csv(\"https://raw.githubusercontent.com/oatthegreat/Quiz1/main/diamonds.csv\")\n",
        "df.head()"
      ],
      "metadata": {
        "colab": {
          "base_uri": "https://localhost:8080/",
          "height": 206
        },
        "id": "rm_6Rre062ig",
        "outputId": "3c72ad23-8f52-4685-94b1-38dd303d18d5"
      },
      "execution_count": 124,
      "outputs": [
        {
          "output_type": "execute_result",
          "data": {
            "text/plain": [
              "   Unnamed: 0  carat      cut color clarity  depth  table  price     x     y  \\\n",
              "0           1   0.23    Ideal     E     SI2   61.5   55.0    326  3.95  3.98   \n",
              "1           2   0.21  Premium     E     SI1   59.8   61.0    326  3.89  3.84   \n",
              "2           3   0.23     Good     E     VS1   56.9   65.0    327  4.05  4.07   \n",
              "3           4   0.29  Premium     I     VS2   62.4   58.0    334  4.20  4.23   \n",
              "4           5   0.31     Good     J     SI2   63.3   58.0    335  4.34  4.35   \n",
              "\n",
              "      z  \n",
              "0  2.43  \n",
              "1  2.31  \n",
              "2  2.31  \n",
              "3  2.63  \n",
              "4  2.75  "
            ],
            "text/html": [
              "\n",
              "  <div id=\"df-8899488f-100e-4052-bc93-d43e7320c543\">\n",
              "    <div class=\"colab-df-container\">\n",
              "      <div>\n",
              "<style scoped>\n",
              "    .dataframe tbody tr th:only-of-type {\n",
              "        vertical-align: middle;\n",
              "    }\n",
              "\n",
              "    .dataframe tbody tr th {\n",
              "        vertical-align: top;\n",
              "    }\n",
              "\n",
              "    .dataframe thead th {\n",
              "        text-align: right;\n",
              "    }\n",
              "</style>\n",
              "<table border=\"1\" class=\"dataframe\">\n",
              "  <thead>\n",
              "    <tr style=\"text-align: right;\">\n",
              "      <th></th>\n",
              "      <th>Unnamed: 0</th>\n",
              "      <th>carat</th>\n",
              "      <th>cut</th>\n",
              "      <th>color</th>\n",
              "      <th>clarity</th>\n",
              "      <th>depth</th>\n",
              "      <th>table</th>\n",
              "      <th>price</th>\n",
              "      <th>x</th>\n",
              "      <th>y</th>\n",
              "      <th>z</th>\n",
              "    </tr>\n",
              "  </thead>\n",
              "  <tbody>\n",
              "    <tr>\n",
              "      <th>0</th>\n",
              "      <td>1</td>\n",
              "      <td>0.23</td>\n",
              "      <td>Ideal</td>\n",
              "      <td>E</td>\n",
              "      <td>SI2</td>\n",
              "      <td>61.5</td>\n",
              "      <td>55.0</td>\n",
              "      <td>326</td>\n",
              "      <td>3.95</td>\n",
              "      <td>3.98</td>\n",
              "      <td>2.43</td>\n",
              "    </tr>\n",
              "    <tr>\n",
              "      <th>1</th>\n",
              "      <td>2</td>\n",
              "      <td>0.21</td>\n",
              "      <td>Premium</td>\n",
              "      <td>E</td>\n",
              "      <td>SI1</td>\n",
              "      <td>59.8</td>\n",
              "      <td>61.0</td>\n",
              "      <td>326</td>\n",
              "      <td>3.89</td>\n",
              "      <td>3.84</td>\n",
              "      <td>2.31</td>\n",
              "    </tr>\n",
              "    <tr>\n",
              "      <th>2</th>\n",
              "      <td>3</td>\n",
              "      <td>0.23</td>\n",
              "      <td>Good</td>\n",
              "      <td>E</td>\n",
              "      <td>VS1</td>\n",
              "      <td>56.9</td>\n",
              "      <td>65.0</td>\n",
              "      <td>327</td>\n",
              "      <td>4.05</td>\n",
              "      <td>4.07</td>\n",
              "      <td>2.31</td>\n",
              "    </tr>\n",
              "    <tr>\n",
              "      <th>3</th>\n",
              "      <td>4</td>\n",
              "      <td>0.29</td>\n",
              "      <td>Premium</td>\n",
              "      <td>I</td>\n",
              "      <td>VS2</td>\n",
              "      <td>62.4</td>\n",
              "      <td>58.0</td>\n",
              "      <td>334</td>\n",
              "      <td>4.20</td>\n",
              "      <td>4.23</td>\n",
              "      <td>2.63</td>\n",
              "    </tr>\n",
              "    <tr>\n",
              "      <th>4</th>\n",
              "      <td>5</td>\n",
              "      <td>0.31</td>\n",
              "      <td>Good</td>\n",
              "      <td>J</td>\n",
              "      <td>SI2</td>\n",
              "      <td>63.3</td>\n",
              "      <td>58.0</td>\n",
              "      <td>335</td>\n",
              "      <td>4.34</td>\n",
              "      <td>4.35</td>\n",
              "      <td>2.75</td>\n",
              "    </tr>\n",
              "  </tbody>\n",
              "</table>\n",
              "</div>\n",
              "      <button class=\"colab-df-convert\" onclick=\"convertToInteractive('df-8899488f-100e-4052-bc93-d43e7320c543')\"\n",
              "              title=\"Convert this dataframe to an interactive table.\"\n",
              "              style=\"display:none;\">\n",
              "        \n",
              "  <svg xmlns=\"http://www.w3.org/2000/svg\" height=\"24px\"viewBox=\"0 0 24 24\"\n",
              "       width=\"24px\">\n",
              "    <path d=\"M0 0h24v24H0V0z\" fill=\"none\"/>\n",
              "    <path d=\"M18.56 5.44l.94 2.06.94-2.06 2.06-.94-2.06-.94-.94-2.06-.94 2.06-2.06.94zm-11 1L8.5 8.5l.94-2.06 2.06-.94-2.06-.94L8.5 2.5l-.94 2.06-2.06.94zm10 10l.94 2.06.94-2.06 2.06-.94-2.06-.94-.94-2.06-.94 2.06-2.06.94z\"/><path d=\"M17.41 7.96l-1.37-1.37c-.4-.4-.92-.59-1.43-.59-.52 0-1.04.2-1.43.59L10.3 9.45l-7.72 7.72c-.78.78-.78 2.05 0 2.83L4 21.41c.39.39.9.59 1.41.59.51 0 1.02-.2 1.41-.59l7.78-7.78 2.81-2.81c.8-.78.8-2.07 0-2.86zM5.41 20L4 18.59l7.72-7.72 1.47 1.35L5.41 20z\"/>\n",
              "  </svg>\n",
              "      </button>\n",
              "      \n",
              "  <style>\n",
              "    .colab-df-container {\n",
              "      display:flex;\n",
              "      flex-wrap:wrap;\n",
              "      gap: 12px;\n",
              "    }\n",
              "\n",
              "    .colab-df-convert {\n",
              "      background-color: #E8F0FE;\n",
              "      border: none;\n",
              "      border-radius: 50%;\n",
              "      cursor: pointer;\n",
              "      display: none;\n",
              "      fill: #1967D2;\n",
              "      height: 32px;\n",
              "      padding: 0 0 0 0;\n",
              "      width: 32px;\n",
              "    }\n",
              "\n",
              "    .colab-df-convert:hover {\n",
              "      background-color: #E2EBFA;\n",
              "      box-shadow: 0px 1px 2px rgba(60, 64, 67, 0.3), 0px 1px 3px 1px rgba(60, 64, 67, 0.15);\n",
              "      fill: #174EA6;\n",
              "    }\n",
              "\n",
              "    [theme=dark] .colab-df-convert {\n",
              "      background-color: #3B4455;\n",
              "      fill: #D2E3FC;\n",
              "    }\n",
              "\n",
              "    [theme=dark] .colab-df-convert:hover {\n",
              "      background-color: #434B5C;\n",
              "      box-shadow: 0px 1px 3px 1px rgba(0, 0, 0, 0.15);\n",
              "      filter: drop-shadow(0px 1px 2px rgba(0, 0, 0, 0.3));\n",
              "      fill: #FFFFFF;\n",
              "    }\n",
              "  </style>\n",
              "\n",
              "      <script>\n",
              "        const buttonEl =\n",
              "          document.querySelector('#df-8899488f-100e-4052-bc93-d43e7320c543 button.colab-df-convert');\n",
              "        buttonEl.style.display =\n",
              "          google.colab.kernel.accessAllowed ? 'block' : 'none';\n",
              "\n",
              "        async function convertToInteractive(key) {\n",
              "          const element = document.querySelector('#df-8899488f-100e-4052-bc93-d43e7320c543');\n",
              "          const dataTable =\n",
              "            await google.colab.kernel.invokeFunction('convertToInteractive',\n",
              "                                                     [key], {});\n",
              "          if (!dataTable) return;\n",
              "\n",
              "          const docLinkHtml = 'Like what you see? Visit the ' +\n",
              "            '<a target=\"_blank\" href=https://colab.research.google.com/notebooks/data_table.ipynb>data table notebook</a>'\n",
              "            + ' to learn more about interactive tables.';\n",
              "          element.innerHTML = '';\n",
              "          dataTable['output_type'] = 'display_data';\n",
              "          await google.colab.output.renderOutput(dataTable, element);\n",
              "          const docLink = document.createElement('div');\n",
              "          docLink.innerHTML = docLinkHtml;\n",
              "          element.appendChild(docLink);\n",
              "        }\n",
              "      </script>\n",
              "    </div>\n",
              "  </div>\n",
              "  "
            ]
          },
          "metadata": {},
          "execution_count": 124
        }
      ]
    },
    {
      "cell_type": "code",
      "source": [
        "#check for null\n",
        "df.isnull().sum()"
      ],
      "metadata": {
        "id": "HH_j_rOD7cNI"
      },
      "execution_count": null,
      "outputs": []
    },
    {
      "cell_type": "code",
      "source": [
        "#plot carot\n",
        "plt.hist(df[\"carat\"]);"
      ],
      "metadata": {
        "id": "mIXf_B3sE_es"
      },
      "execution_count": null,
      "outputs": []
    },
    {
      "cell_type": "markdown",
      "source": [
        "This historgraph shows the ammount of diamonds with a certain carat(weight)."
      ],
      "metadata": {
        "id": "6tKx71Rytjz-"
      }
    },
    {
      "cell_type": "code",
      "source": [
        "#plot cut\n",
        "plt.hist(df[\"cut\"]);"
      ],
      "metadata": {
        "id": "Xk-ngRiyImL7"
      },
      "execution_count": null,
      "outputs": []
    },
    {
      "cell_type": "markdown",
      "source": [
        "This historgraph shows the grade chart for how many diamonds is in a certain cut grade.\n",
        "\n"
      ],
      "metadata": {
        "id": "xZD0zeiGuP9G"
      }
    },
    {
      "cell_type": "code",
      "source": [
        "#plot color\n",
        "plt.hist(df[\"color\"]);"
      ],
      "metadata": {
        "id": "kcut2yxVJHls"
      },
      "execution_count": null,
      "outputs": []
    },
    {
      "cell_type": "markdown",
      "source": [
        "This histograph shows the number of diamonds with a certain color range.\n"
      ],
      "metadata": {
        "id": "S1bvHMdpvIUz"
      }
    },
    {
      "cell_type": "code",
      "source": [
        "#plot clarity\n",
        "plt.hist(df[\"clarity\"]);"
      ],
      "metadata": {
        "id": "XKRi9tEpJNNq"
      },
      "execution_count": null,
      "outputs": []
    },
    {
      "cell_type": "markdown",
      "source": [
        "This histograph shows the number of diamonds within the clarity scale.\n"
      ],
      "metadata": {
        "id": "QalGoA7JwRlP"
      }
    },
    {
      "cell_type": "code",
      "source": [
        "#plot depth\n",
        "plt.hist(df[\"depth\"]);"
      ],
      "metadata": {
        "id": "qE8lNGwQJV88"
      },
      "execution_count": null,
      "outputs": []
    },
    {
      "cell_type": "markdown",
      "source": [
        "This histograph shows the number of diamonds within the range of certain depth.\n"
      ],
      "metadata": {
        "id": "GWjPVqC9wv2R"
      }
    },
    {
      "cell_type": "code",
      "source": [
        "#plot table\n",
        "plt.hist(df[\"table\"]);"
      ],
      "metadata": {
        "id": "TXKyuE6EJWxv"
      },
      "execution_count": null,
      "outputs": []
    },
    {
      "cell_type": "markdown",
      "source": [
        "This histograph shows the number of diamonds that are within the length of a certain table."
      ],
      "metadata": {
        "id": "IV31FG4K2_wf"
      }
    },
    {
      "cell_type": "code",
      "source": [
        "#plot price\n",
        "plt.hist(df[\"price\"]);"
      ],
      "metadata": {
        "id": "8nQaRhxCJXH-"
      },
      "execution_count": null,
      "outputs": []
    },
    {
      "cell_type": "markdown",
      "source": [
        "The price ranges of the diamonds."
      ],
      "metadata": {
        "id": "z7LTKTbR3VYZ"
      }
    },
    {
      "cell_type": "code",
      "source": [
        "#plot x\n",
        "plt.hist(df[\"x\"]);"
      ],
      "metadata": {
        "id": "KVqdqomtJXaL"
      },
      "execution_count": null,
      "outputs": []
    },
    {
      "cell_type": "markdown",
      "source": [
        "length in mm from (0--10.74)."
      ],
      "metadata": {
        "id": "46o6oZ773g0x"
      }
    },
    {
      "cell_type": "code",
      "source": [
        "#plot y\n",
        "plt.hist(df[\"y\"]);"
      ],
      "metadata": {
        "id": "XzSg5VAgJXrp"
      },
      "execution_count": null,
      "outputs": []
    },
    {
      "cell_type": "markdown",
      "source": [
        "width in mm from (0--58.9)\n",
        "\n"
      ],
      "metadata": {
        "id": "KdKl2V363qEj"
      }
    },
    {
      "cell_type": "code",
      "source": [
        "#plot z\n",
        "plt.hist(df[\"z\"]);"
      ],
      "metadata": {
        "id": "sCdzypm1JX60"
      },
      "execution_count": null,
      "outputs": []
    },
    {
      "cell_type": "markdown",
      "source": [
        "depth in mm from (0--31.8)\n",
        "\n"
      ],
      "metadata": {
        "id": "dZD27Vti3wYk"
      }
    },
    {
      "cell_type": "markdown",
      "source": [
        "#Part 3"
      ],
      "metadata": {
        "id": "q7x4EaAJMCgX"
      }
    },
    {
      "cell_type": "code",
      "source": [
        "#1\n",
        "range = df.loc[(df['carat'] >= .30) & (df['carat'] <= 1.08), 'carat']\n",
        "proportion = (len(range) / len(df['carat'])) * 100\n",
        "\n",
        "print(proportion)\n"
      ],
      "metadata": {
        "id": "gc2cKj0sMG5t"
      },
      "execution_count": null,
      "outputs": []
    },
    {
      "cell_type": "code",
      "source": [
        "#2\n",
        "x = df['x'].to_list()\n",
        "y = df['y'].to_list()\n",
        "\n",
        "\n",
        "list_x = set(x)\n",
        "intersection = list_x.intersection(y)\n",
        "print(len(intersection))"
      ],
      "metadata": {
        "id": "M8m8MihTiwve"
      },
      "execution_count": null,
      "outputs": []
    },
    {
      "cell_type": "code",
      "source": [
        "#3\n",
        "import statistics\n",
        "\n",
        "carat = df['carat'].to_list()\n",
        "zz = []\n",
        "\n",
        "carat_mean = statistics.mean(carat)\n",
        "\n",
        "for i in carat:\n",
        "  if i < carat_mean:\n",
        "    lae = zz.append(i)\n",
        "    \n",
        "print(len(zz))\n",
        "\n"
      ],
      "metadata": {
        "id": "vndRfT1hk-rM"
      },
      "execution_count": null,
      "outputs": []
    },
    {
      "cell_type": "code",
      "source": [
        "#4\n",
        "\n",
        "Fair =  df.loc[df['cut'] == 'Fair', 'cut']\n",
        "Good =  df.loc[df['cut'] == 'Good', 'cut']\n",
        "Very_Good =  df.loc[df['cut'] == 'Very Good', 'cut']\n",
        "Premium =  df.loc[df['cut'] == 'Premium', 'cut']\n",
        "Ideal =  df.loc[df['cut'] == 'Ideal', 'cut']\n",
        "\n",
        "overall = Premium + Ideal\n",
        "print(len(overall))"
      ],
      "metadata": {
        "id": "0lAga1p5nV6H"
      },
      "execution_count": null,
      "outputs": []
    },
    {
      "cell_type": "code",
      "source": [
        "#5\n",
        "Price = df['price'].to_list()\n",
        "m_price = max(Price)\n",
        "\n",
        "for i in Price:\n",
        "  if i == m_price:\n",
        "    print(i,df.loc[i, 'carat'])\n",
        "\n"
      ],
      "metadata": {
        "id": "uK-D9keT-Mj0"
      },
      "execution_count": null,
      "outputs": []
    },
    {
      "cell_type": "code",
      "source": [
        "#6\n",
        "import pandas as pd\n",
        "import matplotlib.pyplot as plt\n",
        "import seaborn as sns\n",
        "\n",
        "price = df['price']\n",
        "cut = df['cut']\n",
        "\n",
        "day = df[\"cut\"]\n",
        "sns.boxplot(x=price, y=cut)\n",
        "\n",
        "#https://stackabuse.com/seaborn-box-plot-tutorial-and-examples/"
      ],
      "metadata": {
        "id": "k_LCOURxBb5n"
      },
      "execution_count": null,
      "outputs": []
    },
    {
      "cell_type": "markdown",
      "source": [
        "The conclusion we make is that prices can be remarkably similar with some difference once you get higher to the top."
      ],
      "metadata": {
        "id": "98yFKlWIR1ts"
      }
    },
    {
      "cell_type": "code",
      "source": [
        "#7\n",
        "sns.scatterplot(x = 'price', y = 'carat', data = df)"
      ],
      "metadata": {
        "id": "6xCse_-TBc66"
      },
      "execution_count": null,
      "outputs": []
    },
    {
      "cell_type": "markdown",
      "source": [
        "The relationship between the 2 attributes is the higher the carat the more the price become less negotiable."
      ],
      "metadata": {
        "id": "uyZyNvLdSlsQ"
      }
    },
    {
      "cell_type": "markdown",
      "source": [
        "<h1>Conclusion</h1>\n",
        "<p></p>"
      ],
      "metadata": {
        "id": "RNvwnO2MTGNz"
      }
    },
    {
      "cell_type": "markdown",
      "source": [
        "#Part 4"
      ],
      "metadata": {
        "id": "oGlifjS5WLzQ"
      }
    },
    {
      "cell_type": "markdown",
      "source": [
        "<h1>Conclusion</h1>\n",
        "<p>In conclusion , I have found allot about how diamonds are determined with their value, the importance of a carat , color, cut, clarity and depth, this makes some diamonds more valued like we did in part 3 question 6 where we compared the prices with the cut and how much of a price difference there was.</p>"
      ],
      "metadata": {
        "id": "ma9_x5lzWW5b"
      }
    },
    {
      "cell_type": "markdown",
      "source": [
        "#Part 5\n"
      ],
      "metadata": {
        "id": "GzusvUvYTJXH"
      }
    },
    {
      "cell_type": "markdown",
      "source": [
        "<h1>Citations</h1>\n",
        "<ol>\n",
        "  <li>https://stackabuse.com/seaborn-box-plot-tutorial-and-examples/</li>\n",
        "  <li>https://www.youtube.com/watch?v=KoTHJPzpw0c&ab_channel=DataScienceforAll</li>\n",
        "  <li>https://colab.research.google.com/drive/1pDSaYLqhTbrzYawk47eEkpfgRfiekhQ6#scrollTo=7CGl6kWxAot7</li>\n",
        "  <li>https://colab.research.google.com/drive/14J2GeVD8jeKW-8xGM1wI2wSg3bmt9Iol#scrollTo=YNg-wG3kAnVi</li>\n",
        "  <li>https://4cs.gia.edu/en-us/blog/gia-diamond-cut-grade-six-things-to-know/#:~:text=The%20result%20was%20the%20GIA,of%20brightness%2C%20fire%20and%20scintillation</li>\n",
        "  <li>https://4cs.gia.edu/en-us/diamond-cut/</li>\n",
        "  <li>https://www.google.com/search?q=what+is+diamond+cut+rade&rlz=1C1CHBF_enUS946US946&sxsrf=ALiCzsaBZ-XPibpxKV2KoTBtShiI7kg7kQ%3A1655188216117&ei=-CqoYsziBrmfptQPobqXkAc&ved=0ahUKEwjMvqHNqKz4AhW5j4kEHSHdBXIQ4dUDCA4&uact=5&oq=what+is+diamond+cut+rade&gs_lcp=Cgdnd3Mtd2l6EAMyBAgAEA0yBQgAEIYDOgcIIxCwAhAnOgYIABANEAo6BAgjECc6CggAEIAEEIcCEBQ6BQgAEIAEOgcIABCABBAKOgYIABAeEBZKBAhBGABKBAhGGABQAFjsDmDoEGgAcAF4AYABjgeIAfALkgEHNi4xLjYtMZgBAKABAcABAQ&sclient=gws-wiz</li>\n",
        "  <li>https://www.diamonds.pro/education/cuts/#:~:text=Cut%20refers%20to%20the%20facets,and%20fire%20of%20the%20diamond.</li>\n",
        "  <li>https://www.tiffany.com/engagement/the-tiffany-guide-to-diamonds/carat/</li>\n",
        "  <li>https://en.wikipedia.org/wiki/Diamond_color#:~:text=Diamonds%20occur%20in%20a%20variety,are%20perfectly%20transparent%20and%20colorless.</li>\n",
        "  <li>https://www.diamonds.pro/education/color/</li>\n",
        "  <li>https://4cs.gia.edu/en-us/diamond-clarity/</li>\n",
        "  <li>https://www.withclarity.com/education/diamond-education/diamond-cut/what-is-diamond-depth-or-diamond-education</li>\n",
        "  <li>https://pro.arcgis.com/en/pro-app/2.8/tool-reference/analysis/summary-statistics.htm</li>\n",
        "  <li>https://www.geeksforgeeks.org/python-pandas-isnull-and-notnull/</li>\n",
        "</ol>"
      ],
      "metadata": {
        "id": "irArEXPBTNUS"
      }
    }
  ]
}